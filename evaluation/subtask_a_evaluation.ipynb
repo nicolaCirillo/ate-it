{
  "cells": [
    {
      "cell_type": "markdown",
      "metadata": {
        "colab_type": "text",
        "id": "view-in-github"
      },
      "source": [
        "<a href=\"https://colab.research.google.com/github/nicolaCirillo/ate-it/blob/main/evaluation/subtask_a_evaluation.ipynb\" target=\"_parent\"><img src=\"https://colab.research.google.com/assets/colab-badge.svg\" alt=\"Open In Colab\"/></a>"
      ]
    },
    {
      "cell_type": "code",
      "execution_count": null,
      "metadata": {
        "id": "rWN0iJhqUkmI"
      },
      "outputs": [],
      "source": [
        "import pandas as pd\n",
        "import codecs\n",
        "import json\n",
        "from collections import defaultdict\n",
        "\n",
        "def load_data(file_path):\n",
        "  \"\"\"\n",
        "  Loads data from a CSV or JSON file and returns a dictionary\n",
        "  where keys are (doc_id, par_id, sent_id) tuples and values are\n",
        "  lists of terms.\n",
        "\n",
        "  Args:\n",
        "    file_path: The path to the input file (CSV or JSON).\n",
        "\n",
        "  Returns:\n",
        "    A dictionary containing the loaded data.\n",
        "\n",
        "  Raises:\n",
        "    ValueError: If the file format is not supported.\n",
        "  \"\"\"\n",
        "  if file_path.endswith('.csv'):\n",
        "    # Load data from CSV file\n",
        "    df = pd.read_csv(file_path)\n",
        "    df.fillna('', inplace=True) # Fill NaN values with empty strings\n",
        "    data = defaultdict(list)\n",
        "    # Iterate over rows and extract terms\n",
        "    for doc_id, par_id, sent_id, _, term in df.itertuples(index=False):\n",
        "      if term.strip() != '':\n",
        "        data[(doc_id, par_id, sent_id)].append(term.strip())\n",
        "  elif file_path.endswith('.json'):\n",
        "    # Load data from JSON file\n",
        "    with codecs.open(file_path, 'r', 'utf-8') as f:\n",
        "      json_data = json.load(f)\n",
        "    # Extract terms from JSON data\n",
        "    data = {(row[\"doc_id\"], row[\"par_id\"], row[\"sent_id\"]): row[\"term_list\"]\n",
        "            for row in json_data[\"data\"] if row[\"term_list\"]}\n",
        "  else:\n",
        "    # Raise error for unsupported file formats\n",
        "    raise ValueError(\"Unsupported file format. Only CSV and JSON files are supported.\")\n",
        "  return data"
      ]
    },
    {
      "cell_type": "code",
      "execution_count": 52,
      "metadata": {
        "id": "elJ5YZONWmzl"
      },
      "outputs": [],
      "source": [
        "def micro_f1_score(gold_standard, system_output):\n",
        "  \"\"\"\n",
        "  Evaluates a term extraction system's performance using Precision, Recall,\n",
        "  and F1 score based on individual term matching (micro-average).\n",
        "\n",
        "  Args:\n",
        "    gold_standard: A list of lists, where each inner list contains the\n",
        "                   gold standard terms for an item.\n",
        "    system_output: A list of lists, where each inner list contains the\n",
        "                   terms extracted by the system for the corresponding item.\n",
        "\n",
        "  Returns:\n",
        "    A tuple containing the Precision, Recall, and F1 score.\n",
        "  \"\"\"\n",
        "  total_true_positives = 0\n",
        "  total_false_positives = 0\n",
        "  total_false_negatives = 0\n",
        "\n",
        "  # Iterate through each item's gold standard and system output terms\n",
        "  for gold, system in zip(gold_standard, system_output):\n",
        "    # Convert to sets for efficient comparison\n",
        "    gold_set = set(gold)\n",
        "    system_set = set(system)\n",
        "\n",
        "    # Calculate True Positives, False Positives, and False Negatives for the current item\n",
        "    true_positives = len(gold_set.intersection(system_set))\n",
        "    false_positives = len(system_set - gold_set)\n",
        "    false_negatives = len(gold_set - system_set)\n",
        "\n",
        "    # Accumulate totals across all items\n",
        "    total_true_positives += true_positives\n",
        "    total_false_positives += false_positives\n",
        "    total_false_negatives += false_negatives\n",
        "\n",
        "  # Calculate Precision, Recall, and F1 score (micro-average)\n",
        "  precision = total_true_positives / (total_true_positives + total_false_positives) if (total_true_positives + total_false_positives) > 0 else 0\n",
        "  recall = total_true_positives / (total_true_positives + total_false_negatives) if (total_true_positives + total_false_negatives) > 0 else 0\n",
        "  f1 = 2 * (precision * recall) / (precision + recall) if (precision + recall) > 0 else 0\n",
        "\n",
        "  return precision, recall, f1"
      ]
    },
    {
      "cell_type": "code",
      "execution_count": 57,
      "metadata": {
        "id": "GBLQd1tCfnLL"
      },
      "outputs": [],
      "source": [
        "def type_f1(gold_standard, system_output):\n",
        "  \"\"\"\n",
        "  Evaluates a term extraction system's performance using Type Precision,\n",
        "  Type Recall, and Type F1 score based on the set of unique terms extracted\n",
        "  at least once across the entire dataset.\n",
        "\n",
        "  Args:\n",
        "    gold_standard: A list of lists, where each inner list contains the\n",
        "                   gold standard terms for an item.\n",
        "    system_output: A list of lists, where each inner list contains the\n",
        "                   terms extracted by the system for the corresponding item.\n",
        "\n",
        "  Returns:\n",
        "    A tuple containing the Type Precision, Type Recall, and Type F1 score.\n",
        "  \"\"\"\n",
        "\n",
        "  # Get the set of all unique gold standard terms across the dataset\n",
        "  all_gold_terms = set()\n",
        "  for item_terms in gold_standard:\n",
        "    all_gold_terms.update(item_terms)\n",
        "\n",
        "  # Get the set of all unique system extracted terms across the dataset\n",
        "  all_system_terms = set()\n",
        "  for item_terms in system_output:\n",
        "    all_system_terms.update(item_terms)\n",
        "\n",
        "  # Calculate True Positives (terms present in both sets)\n",
        "  type_true_positives = len(all_gold_terms.intersection(all_system_terms))\n",
        "\n",
        "  # Calculate False Positives (terms in system output but not in gold standard)\n",
        "  type_false_positives = len(all_system_terms - all_gold_terms)\n",
        "\n",
        "  # Calculate False Negatives (terms in gold standard but not in system output)\n",
        "  type_false_negatives = len(all_gold_terms - all_system_terms)\n",
        "\n",
        "  # Calculate Type Precision, Type Recall, and Type F1 score\n",
        "  type_precision = type_true_positives / (type_true_positives + type_false_positives) if (type_true_positives + type_false_positives) > 0 else 0\n",
        "  type_recall = type_true_positives / (type_true_positives + type_false_negatives) if (type_true_positives + type_false_negatives) > 0 else 0\n",
        "  type_f1 = 2 * (type_precision * type_recall) / (type_precision + type_recall) if (type_precision + type_recall) > 0 else 0\n",
        "\n",
        "  return type_precision, type_recall, type_f1\n"
      ]
    },
    {
      "cell_type": "code",
      "execution_count": null,
      "metadata": {
        "id": "5xOrBJx6gRPH"
      },
      "outputs": [],
      "source": [
        "SYSTEM_OUTPUT_PATH = input(\"Enter the path to the system output file: \")\n",
        "GOLD_STANDARD_PATH = input(\"Enter the path to the gold standard file: \")"
      ]
    },
    {
      "cell_type": "code",
      "execution_count": 61,
      "metadata": {
        "colab": {
          "base_uri": "https://localhost:8080/"
        },
        "id": "fmBbtv4YVdde",
        "outputId": "1185095b-9607-43a6-a459-fcc508c05ec0"
      },
      "outputs": [
        {
          "name": "stdout",
          "output_type": "stream",
          "text": [
            "micro-averaged Precision: 1.0\n",
            "micro-averaged Recall: 1.0\n",
            "micro-averaged F1 score: 1.0\n",
            "\n",
            "Type Precision: 1.0\n",
            "Type Recall: 1.0\n",
            "Type F1 score: 1.0\n"
          ]
        }
      ],
      "source": [
        "system_output_dict = load_data(SYSTEM_OUTPUT_PATH)\n",
        "gold_standard_dict = load_data(GOLD_STANDARD_PATH)\n",
        "\n",
        "for key in gold_standard_dict:\n",
        "  if key not in system_output_dict:\n",
        "    system_output_dict[key] = []\n",
        "\n",
        "gold_standard = list(gold_standard_dict.values())\n",
        "system_output = list(system_output_dict.values())\n",
        "\n",
        "precision, recall, f1 = micro_f1_score(gold_standard, system_output)\n",
        "print(\"micro-averaged Precision:\", precision)\n",
        "print(\"micro-averaged Recall:\", recall)\n",
        "print(\"micro-averaged F1 score:\", f1)\n",
        "\n",
        "type_precision, type_recall, type_f1 = type_f1_score(gold_standard, system_output)\n",
        "print(\"\\nType Precision:\", type_precision)\n",
        "print(\"Type Recall:\", type_recall)\n",
        "print(\"Type F1 score:\", type_f1)"
      ]
    }
  ],
  "metadata": {
    "colab": {
      "authorship_tag": "ABX9TyPImxBqIqkMT7ZUfqM1lo7m",
      "include_colab_link": true,
      "provenance": []
    },
    "kernelspec": {
      "display_name": "Python 3",
      "name": "python3"
    },
    "language_info": {
      "name": "python"
    }
  },
  "nbformat": 4,
  "nbformat_minor": 0
}

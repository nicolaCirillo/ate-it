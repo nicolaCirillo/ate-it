{
  "nbformat": 4,
  "nbformat_minor": 0,
  "metadata": {
    "colab": {
      "provenance": [],
      "authorship_tag": "ABX9TyNdxEm1LaZyWH7BnXI2w+eS",
      "include_colab_link": true
    },
    "kernelspec": {
      "name": "python3",
      "display_name": "Python 3"
    },
    "language_info": {
      "name": "python"
    }
  },
  "cells": [
    {
      "cell_type": "markdown",
      "metadata": {
        "id": "view-in-github",
        "colab_type": "text"
      },
      "source": [
        "<a href=\"https://colab.research.google.com/github/nicolaCirillo/ate-it/blob/main/evaluation/subtask_b_evaluation.ipynb\" target=\"_parent\"><img src=\"https://colab.research.google.com/assets/colab-badge.svg\" alt=\"Open In Colab\"/></a>"
      ]
    },
    {
      "cell_type": "code",
      "source": [
        "import pandas as pd\n",
        "import codecs\n",
        "import json\n",
        "from collections import defaultdict\n",
        "\n",
        "def load_data(file_path):\n",
        "  \"\"\"\n",
        "  Loads data from a CSV or JSON file and returns a dictionary\n",
        "  where keys are terms and values are cluster_ids.\n",
        "\n",
        "  Args:\n",
        "    file_path: The path to the input file (CSV or JSON).\n",
        "\n",
        "  Returns:\n",
        "    A dictionary containing the loaded data.\n",
        "\n",
        "  Raises:\n",
        "    ValueError: If the file format is not supported.\n",
        "  \"\"\"\n",
        "  if file_path.endswith('.csv'):\n",
        "    # Load data from CSV file\n",
        "    df = pd.read_csv(file_path)\n",
        "    data = {term: int(cluster) for term, cluster in df.itertuples(index=False)}\n",
        "  elif file_path.endswith('.json'):\n",
        "    # Load data from JSON file\n",
        "    with codecs.open(file_path, 'r', 'utf-8') as f:\n",
        "      json_data = json.load(f)\n",
        "    # Extract terms from JSON data\n",
        "    data = {item[\"term\"]: item[\"cluster\"] for item in json_data[\"data\"]}\n",
        "  else:\n",
        "    # Raise error for unsupported file formats\n",
        "    raise ValueError(\"Unsupported file format. Only CSV and JSON files are supported.\")\n",
        "  return data"
      ],
      "metadata": {
        "id": "rWN0iJhqUkmI"
      },
      "execution_count": 13,
      "outputs": []
    },
    {
      "cell_type": "code",
      "source": [
        "import numpy as np\n",
        "\n",
        "class BCubed_calculator:\n",
        "  def __init__(self, gold, pred):\n",
        "    self.gold = gold\n",
        "    self.pred = pred\n",
        "    self.gold_cluster = defaultdict(set)\n",
        "    self.pred_cluster = defaultdict(set)\n",
        "    for item, clus_id in gold.items():\n",
        "        self.gold_cluster[clus_id].add(item)\n",
        "    for item, clus_id in pred.items():\n",
        "      self.pred_cluster[clus_id].add(item)\n",
        "\n",
        "  def bc_precision_item(self, item):\n",
        "    pred_id = self.pred[item]\n",
        "    gold_id = self.gold.get(item, None)\n",
        "    TP = len(self.pred_cluster[pred_id].intersection(self.gold_cluster[gold_id]))\n",
        "    FP = len(self.pred_cluster[pred_id]) - TP\n",
        "    return TP/(FP + TP)\n",
        "\n",
        "  def bc_recall_item(self, item):\n",
        "    pred_id = self.pred.get(item, None)\n",
        "    gold_id = self.gold.get(item)\n",
        "    TP = len(self.pred_cluster[pred_id].intersection(self.gold_cluster[gold_id]))\n",
        "    FN = len(self.gold_cluster[gold_id]) - TP\n",
        "    return TP/(TP + FN)\n",
        "\n",
        "def bcubed_precision(gold, pred):\n",
        "  calc = BCubed_calculator(gold, pred)\n",
        "  return np.average([calc.bc_precision_item(item) for item in calc.pred])\n",
        "\n",
        "def bcubed_recall(gold, pred):\n",
        "  calc = BCubed_calculator(gold, pred)\n",
        "  return np.average([calc.bc_recall_item(item) for item in calc.gold])\n",
        "\n",
        "def bcubed_f1(gold, pred):\n",
        "  return 2 * bcubed_precision(gold, pred) * bcubed_recall(gold, pred) / (bcubed_precision(gold, pred) + bcubed_recall(gold, pred))"
      ],
      "metadata": {
        "id": "GBLQd1tCfnLL"
      },
      "execution_count": 15,
      "outputs": []
    },
    {
      "cell_type": "code",
      "source": [
        "SYSTEM_OUTPUT_PATH = input(\"Enter the path to the system output file: \")\n",
        "GOLD_STANDARD_PATH = input(\"Enter the path to the gold standard file: \")"
      ],
      "metadata": {
        "id": "5xOrBJx6gRPH",
        "colab": {
          "base_uri": "https://localhost:8080/"
        },
        "outputId": "8f2280d3-b09a-4890-fbd6-cb48c593a3c5"
      },
      "execution_count": 21,
      "outputs": [
        {
          "name": "stdout",
          "output_type": "stream",
          "text": [
            "Enter the path to the system output file: clustering_dev.json\n",
            "Enter the path to the gold standard file: clustering_train.csv\n"
          ]
        }
      ]
    },
    {
      "cell_type": "code",
      "source": [
        "system_output = load_data(SYSTEM_OUTPUT_PATH)\n",
        "gold_standard = load_data(GOLD_STANDARD_PATH)\n",
        "\n",
        "precision = bcubed_precision(gold_standard, system_output)\n",
        "recall = bcubed_recall(gold_standard, system_output)\n",
        "f1 = bcubed_f1(gold_standard, system_output)\n",
        "\n",
        "print(f\"BCubed Precision: {precision:.4f}\")\n",
        "print(f\"BCubed Recall: {recall:.4f}\")\n",
        "print(f\"BCubed F1 Score: {f1:.4f}\")"
      ],
      "metadata": {
        "colab": {
          "base_uri": "https://localhost:8080/"
        },
        "id": "fmBbtv4YVdde",
        "outputId": "8eb6db32-7a1d-4ad5-ee0b-ebf1f76e56d2"
      },
      "execution_count": 22,
      "outputs": [
        {
          "output_type": "stream",
          "name": "stdout",
          "text": [
            "BCubed Precision: 0.4987\n",
            "BCubed Recall: 0.0942\n",
            "BCubed F1 Score: 0.1585\n"
          ]
        }
      ]
    },
    {
      "cell_type": "code",
      "source": [],
      "metadata": {
        "id": "XS0sdnZepXBw"
      },
      "execution_count": null,
      "outputs": []
    }
  ]
}
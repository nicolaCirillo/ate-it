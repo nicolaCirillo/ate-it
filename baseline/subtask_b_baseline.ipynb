{
  "nbformat": 4,
  "nbformat_minor": 0,
  "metadata": {
    "colab": {
      "provenance": [],
      "authorship_tag": "ABX9TyOSjEfU+GN+rjK7DpNv8uFm",
      "include_colab_link": true
    },
    "kernelspec": {
      "name": "python3",
      "display_name": "Python 3"
    },
    "language_info": {
      "name": "python"
    }
  },
  "cells": [
    {
      "cell_type": "markdown",
      "metadata": {
        "id": "view-in-github",
        "colab_type": "text"
      },
      "source": [
        "<a href=\"https://colab.research.google.com/github/nicolaCirillo/ate-it/blob/main/baseline/subtask_b_baseline.ipynb\" target=\"_parent\"><img src=\"https://colab.research.google.com/assets/colab-badge.svg\" alt=\"Open In Colab\"/></a>"
      ]
    },
    {
      "cell_type": "code",
      "execution_count": null,
      "metadata": {
        "id": "7ax0pwKnmCS3"
      },
      "outputs": [],
      "source": [
        "import pandas as pd\n",
        "import codecs\n",
        "import json\n",
        "\n",
        "def load_data(file_path):\n",
        "  \"\"\"\n",
        "  Loads data from a CSV or JSON file and returns a list of unique term types\n",
        "\n",
        "  Args:\n",
        "    file_path: The path to the input file (CSV or JSON).\n",
        "\n",
        "  Returns:\n",
        "    A list containing the loaded data.\n",
        "\n",
        "  Raises:\n",
        "    ValueError: If the file format is not supported.\n",
        "  \"\"\"\n",
        "  if file_path.endswith('.csv'):\n",
        "    # Load data from CSV file\n",
        "    df = pd.read_csv(file_path)\n",
        "    df.fillna('', inplace=True) # Fill NaN values with empty strings\n",
        "    data = set([t.strip() for t in df['term'] if t!= ''])\n",
        "  elif file_path.endswith('.json'):\n",
        "    # Load data from JSON file\n",
        "    with codecs.open(file_path, 'r', 'utf-8') as f:\n",
        "      json_data = json.load(f)\n",
        "    # Extract terms from JSON data\n",
        "    data = set()\n",
        "    for row in json_data[\"data\"]:\n",
        "      data.update(row[\"term_list\"])\n",
        "  else:\n",
        "    # Raise error for unsupported file formats\n",
        "    raise ValueError(\"Unsupported file format. Only CSV and JSON files are supported.\")\n",
        "  return data"
      ]
    },
    {
      "cell_type": "code",
      "source": [
        "import google.generativeai as genai\n",
        "\n",
        "# Get the API key from the user\n",
        "api_key = input(\"Please enter your Gemini API key: \")\n",
        "genai.configure(api_key=api_key)\n",
        "\n",
        "# Define the model\n",
        "model = genai.GenerativeModel('gemini-2.5-flash')"
      ],
      "metadata": {
        "id": "diQC4xoeouBd"
      },
      "execution_count": null,
      "outputs": []
    },
    {
      "cell_type": "code",
      "source": [
        "# Test the model\n",
        "response = model.generate_content(\"Hello, how are you?\")\n",
        "\n",
        "# Print the model's response\n",
        "print(response.text)"
      ],
      "metadata": {
        "id": "s93lUTbev8Ei"
      },
      "execution_count": null,
      "outputs": []
    },
    {
      "cell_type": "code",
      "source": [
        "# Define the batch size (number of terms passed per execution)\n",
        "\n",
        "batch_size = 100\n",
        "\n",
        "# Define system prompt\n",
        "system_prompt = f\"\"\"You are a term clustering agent.\n",
        "You will receive a list of clusters and a list of unclustered terms related to municipal waste management.\n",
        "Your task is to cluster together exact synonyms.\n",
        "Each cluster must denote a single concept.\n",
        "\n",
        "Output:\n",
        "Return the list of clusters with the newly added terms. Each cluster must be on a new line.\n",
        "\n",
        "Example Output:\n",
        "\n",
        "term1; term2\n",
        "term3\n",
        "term4; term5; term7\n",
        "term6; term8\n",
        "\n",
        "Instructions:\n",
        "* Group terms by meaning, not form. Use their lemma.\n",
        "* Focus on their meaning within the municipal waste management context.\n",
        "* Cluster all {batch_size} terms, if a term does not belong to an existing cluster, insert it in a new cluster.\n",
        "* Do not remove terms from existing clusters.\n",
        "* Your response must contain only the clustered terms in the specified format. Do not add any introductory text or explanations.\n",
        "\n",
        "\"\"\""
      ],
      "metadata": {
        "id": "bLdHG-m1mdrK"
      },
      "execution_count": null,
      "outputs": []
    },
    {
      "cell_type": "code",
      "source": [
        "# Load data\n",
        "filename = input(\"Please enter the path to the input file: \")\n",
        "data = load_data(filename)"
      ],
      "metadata": {
        "id": "BGrDlfV-izvx"
      },
      "execution_count": null,
      "outputs": []
    },
    {
      "cell_type": "code",
      "source": [
        "from tqdm.notebook import tqdm\n",
        "\n",
        "response_list = []\n",
        "user_prompt_cluster = \"CLUSTERS:\\n\"\n",
        "user_prompt_term = \"\\nUNCLUSTERED TERMS:\\n\"\n",
        "# iterate over terms\n",
        "for i, term in enumerate(tqdm(data)):\n",
        "  # When batch size is reached\n",
        "  if (i+1) % batch_size == 0:\n",
        "    user_prompt_term += f\"{term}\"\n",
        "    # Send the prompts to the model and collect response\n",
        "    response = model.generate_content(\n",
        "        f\"System: {system_prompt}\\nUser: {user_prompt_cluster + user_prompt_term}\"\n",
        "        )\n",
        "    user_prompt_cluster = \"CLUSTERS:\\n\" + response.text\n",
        "    # Reset the user prompt\n",
        "    user_prompt_term = \"\"\n",
        "  # Add sentence to the prompt\n",
        "  else:\n",
        "    user_prompt_term += f\"{term}\\n\"\n",
        "\n",
        "# Process the remaining data\n",
        "user_prompt_term = user_prompt_term[:-1]\n",
        "# Send the prompts to the model and collect response\n",
        "response = model.generate_content(\n",
        "    f\"System: {system_prompt}\\nUser: {user_prompt_cluster + user_prompt_term}\"\n",
        "    )\n",
        "user_prompt_cluster = \"CLUSTERS:\\n\" + response.text"
      ],
      "metadata": {
        "id": "lXrKQDeMqHqN"
      },
      "execution_count": null,
      "outputs": []
    },
    {
      "cell_type": "code",
      "source": [
        "out_data = []\n",
        "for i, cluster in enumerate(user_prompt_cluster.split('\\n')[1:]):\n",
        "  for term in cluster.split(';'):\n",
        "    out_data.append((term.strip(),i+1))\n",
        "if len(out_data) != len(data):\n",
        "  print(\"Output data was not the same length as input data.\")\n",
        "  # Add unclustered terms from input\n",
        "  for i, term in enumerate(data):\n",
        "    if term not in list(zip(*out_data))[0]:\n",
        "      out_data.append((term,999+i))\n",
        "else:\n",
        "  print(\"Output data is the same length as input data.\")"
      ],
      "metadata": {
        "id": "za0J_BYi1-pv"
      },
      "execution_count": null,
      "outputs": []
    },
    {
      "cell_type": "code",
      "source": [
        "import codecs\n",
        "import json\n",
        "\n",
        "# Create json output file\n",
        "json_data = {\"data\": []}\n",
        "for term, cluster in out_data:\n",
        "  json_data[\"data\"].append({\n",
        "      \"term\": term,\n",
        "      \"cluster\": cluster\n",
        "  })\n",
        "\n",
        "with codecs.open('baseline_b_1.json', 'w', 'utf-8') as f:\n",
        "  json.dump(json_data, f, ensure_ascii=False, indent=4)"
      ],
      "metadata": {
        "id": "i0Dzrbh90J-r"
      },
      "execution_count": null,
      "outputs": []
    }
  ]
}
{
  "nbformat": 4,
  "nbformat_minor": 0,
  "metadata": {
    "colab": {
      "provenance": [],
      "authorship_tag": "ABX9TyNPasnfXZT1l2LNzTXayrhd",
      "include_colab_link": true
    },
    "kernelspec": {
      "name": "python3",
      "display_name": "Python 3"
    },
    "language_info": {
      "name": "python"
    }
  },
  "cells": [
    {
      "cell_type": "markdown",
      "metadata": {
        "id": "view-in-github",
        "colab_type": "text"
      },
      "source": [
        "<a href=\"https://colab.research.google.com/github/nicolaCirillo/ate-it/blob/main/baseline/subtask_a_baseline.ipynb\" target=\"_parent\"><img src=\"https://colab.research.google.com/assets/colab-badge.svg\" alt=\"Open In Colab\"/></a>"
      ]
    },
    {
      "cell_type": "code",
      "execution_count": null,
      "metadata": {
        "id": "7ax0pwKnmCS3"
      },
      "outputs": [],
      "source": [
        "import pandas as pd\n",
        "import codecs\n",
        "import json\n",
        "\n",
        "def load_data(file_path):\n",
        "  \"\"\"\n",
        "  Loads data from a CSV or JSON file and returns a dictionary\n",
        "  where keys are (doc_id, par_id, sent_id) tuples and values are sentences.\n",
        "\n",
        "  Args:\n",
        "    file_path: The path to the input file (CSV or JSON).\n",
        "\n",
        "  Returns:\n",
        "    A dictionary containing the loaded data.\n",
        "\n",
        "  Raises:\n",
        "    ValueError: If the file format is not supported.\n",
        "  \"\"\"\n",
        "  if file_path.endswith('.csv'):\n",
        "    # Load data from CSV file\n",
        "    df = pd.read_csv(file_path)\n",
        "    df.fillna('', inplace=True) # Fill NaN values with empty strings\n",
        "    data = {}\n",
        "    # Iterate over rows and get sentences\n",
        "    for doc_id, par_id, sent_id, sentence_text, _ in df.itertuples(index=False):\n",
        "        data[(doc_id, par_id, sent_id)] = sentence_text\n",
        "  elif file_path.endswith('.json'):\n",
        "    # Load data from JSON file\n",
        "    with codecs.open(file_path, 'r', 'utf-8') as f:\n",
        "      json_data = json.load(f)\n",
        "    # Extract terms from JSON data\n",
        "    data = {(row[\"doc_id\"], row[\"par_id\"], row[\"sent_id\"]): row[\"sentence_text\"]\n",
        "            for row in json_data[\"data\"]}\n",
        "  else:\n",
        "    # Raise error for unsupported file formats\n",
        "    raise ValueError(\"Unsupported file format. Only CSV and JSON files are supported.\")\n",
        "  return data"
      ]
    },
    {
      "cell_type": "code",
      "source": [
        "data = load_data('dev_longer.csv')"
      ],
      "metadata": {
        "id": "jDhknjBdmKoI"
      },
      "execution_count": null,
      "outputs": []
    },
    {
      "cell_type": "code",
      "source": [
        "import google.generativeai as genai\n",
        "\n",
        "# Get the API key from the user\n",
        "api_key = input(\"Please enter your Gemini API key: \")\n",
        "genai.configure(api_key=api_key)\n",
        "\n",
        "# Define the model\n",
        "model = genai.GenerativeModel('gemini-2.5-flash')"
      ],
      "metadata": {
        "id": "diQC4xoeouBd"
      },
      "execution_count": null,
      "outputs": []
    },
    {
      "cell_type": "code",
      "source": [
        "# Test the model\n",
        "response = model.generate_content(\"Hello, how are you?\")\n",
        "\n",
        "# Print the model's response\n",
        "print(response.text)"
      ],
      "metadata": {
        "id": "s93lUTbev8Ei"
      },
      "execution_count": null,
      "outputs": []
    },
    {
      "cell_type": "code",
      "source": [
        "# Define the batch size (number of sentences passed per execution)\n",
        "\n",
        "batch_size = 20\n",
        "\n",
        "# Define system prompt\n",
        "system_prompt = f\"\"\"You are an automatic term extraction agent. You will receive a list of sentences as input.\n",
        "Your role is to extract waste management terms from the sentences. Output a list of terms for each sentence.\n",
        "\n",
        "strictly adhere to the Example Output Format:\n",
        "\n",
        "Example Output Format:\n",
        "Sentence 1: [term1; term2; term3; term4]\n",
        "Sentence 2: [term5; term6]\n",
        "Sentence 3: []\n",
        "Sentence 4: []\n",
        "Sentence 5: [term7]\n",
        "\n",
        "\n",
        "Instructions:\n",
        "* Extract only terms, ignore named entities;\n",
        "* Do not extract nested terms;\n",
        "* Extract only terms related to waste management, ignoring other domains;\n",
        "* If a sentence contains no terms, output an empty list for that sentence;\n",
        "* You must output {batch_size} lists of terms, one for each sentence.\n",
        "\n",
        "\"\"\""
      ],
      "metadata": {
        "id": "bLdHG-m1mdrK"
      },
      "execution_count": null,
      "outputs": []
    },
    {
      "cell_type": "code",
      "source": [
        "from tqdm.notebook import tqdm\n",
        "\n",
        "response_list = []\n",
        "user_prompt = \"\"\n",
        "# iterate over sentences\n",
        "for i, sent in enumerate(tqdm(list(data.values()))):\n",
        "  # When batch size is reached\n",
        "  if (i+1) % batch_size == 0:\n",
        "    user_prompt += f\"Sentence {i+1}:\\n {sent}\"\n",
        "    # Send the prompts to the model and collect response\n",
        "    response = model.generate_content(\n",
        "        f\"System: {system_prompt}\\nUser: {user_prompt}\"\n",
        "        )\n",
        "    response_list.append(response.text)\n",
        "    # Reset the user prompt\n",
        "    user_prompt = \"\"\n",
        "  # Add sentence to the prompt\n",
        "  else:\n",
        "    user_prompt += f\"Sentence {i+1}:\\n {sent}\\n\\n\"\n",
        "\n",
        "# Process the remaining data\n",
        "user_prompt = user_prompt[:-2]\n",
        "# Send the prompts to the model and collect response\n",
        "response = model.generate_content(\n",
        "    f\"System: {system_prompt}\\nUser: {user_prompt}\"\n",
        "    )\n",
        "response_list.append(response.text)"
      ],
      "metadata": {
        "id": "lXrKQDeMqHqN"
      },
      "execution_count": null,
      "outputs": []
    },
    {
      "cell_type": "code",
      "source": [
        "# Format and check the output\n",
        "import re\n",
        "\n",
        "out_data = []\n",
        "for response in response_list:\n",
        "  for sent in response.split('\\n'):\n",
        "    id = int(re.search(r'Sentence (\\d+):', sent).group(1))\n",
        "    terms = re.search(r'\\[(.*?)\\]', sent).group(1).split(';')\n",
        "    terms = [term.strip().lower() for term in terms if term.strip() != '']\n",
        "    out_data.append((id, terms))\n",
        "\n",
        "if len(out_data) != len(data):\n",
        "  raise ValueError(\"Output data is not the same length as input data.\")\n",
        "else:\n",
        "  print(\"Output data is the same length as input data.\")"
      ],
      "metadata": {
        "id": "vKzlrjf7onwV"
      },
      "execution_count": null,
      "outputs": []
    },
    {
      "cell_type": "code",
      "source": [
        "import codecs\n",
        "import json\n",
        "\n",
        "# Create json output file\n",
        "json_data = {\"data\": []}\n",
        "for i, ((doc_id, par_id, sent_id), sentence_text) in enumerate(data.items()):\n",
        "  json_data[\"data\"].append({\n",
        "      \"document_id\": doc_id,\n",
        "      \"paragraph_id\": par_id,\n",
        "      \"sentence_id\": sent_id,\n",
        "      \"sentence_text\": sentence_text,\n",
        "      \"term_list\": out_data[i][1]\n",
        "  })\n",
        "\n",
        "with codecs.open('baseline_a_1.json', 'w', 'utf-8') as f:\n",
        "  json.dump(json_data, f, ensure_ascii=False, indent=4)"
      ],
      "metadata": {
        "id": "i0Dzrbh90J-r"
      },
      "execution_count": null,
      "outputs": []
    },
    {
      "cell_type": "code",
      "source": [],
      "metadata": {
        "id": "rtLR7WB71YnF"
      },
      "execution_count": null,
      "outputs": []
    }
  ]
}